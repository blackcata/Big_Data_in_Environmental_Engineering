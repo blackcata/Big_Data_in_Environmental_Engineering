{
 "cells": [
  {
   "cell_type": "code",
   "execution_count": 12,
   "metadata": {},
   "outputs": [],
   "source": [
    "def name_person(attendees, order):\n",
    "    ind_person = order - 1\n",
    "    \n",
    "    if (bool(attendees[ind_person])): name = attendees[ind_person]\n",
    "    else:                             name = None\n",
    "\n",
    "    return name"
   ]
  },
  {
   "cell_type": "code",
   "execution_count": 15,
   "metadata": {},
   "outputs": [],
   "source": [
    "order     = 2\n",
    "Attendees = ['Adela', 'Fleda', 'Owen',\n",
    "             'May', 'Mona', 'Gilbert', 'Ford']"
   ]
  },
  {
   "cell_type": "code",
   "execution_count": 18,
   "metadata": {},
   "outputs": [
    {
     "name": "stdout",
     "output_type": "stream",
     "text": [
      "2nd person who arrived at the party is Fleda\n"
     ]
    }
   ],
   "source": [
    "name_order = name_person(Attendees,order)\n",
    "\n",
    "print('{}nd person who arrived at the party is {}'.format(order,name_order))"
   ]
  }
 ],
 "metadata": {
  "kernelspec": {
   "display_name": "Python 3",
   "language": "python",
   "name": "python3"
  },
  "language_info": {
   "codemirror_mode": {
    "name": "ipython",
    "version": 3
   },
   "file_extension": ".py",
   "mimetype": "text/x-python",
   "name": "python",
   "nbconvert_exporter": "python",
   "pygments_lexer": "ipython3",
   "version": "3.8.3"
  }
 },
 "nbformat": 4,
 "nbformat_minor": 4
}
