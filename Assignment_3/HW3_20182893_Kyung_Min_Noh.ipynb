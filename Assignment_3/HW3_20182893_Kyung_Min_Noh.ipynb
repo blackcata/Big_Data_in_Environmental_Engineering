{
 "cells": [
  {
   "cell_type": "code",
   "execution_count": 2,
   "metadata": {
    "execution": {
     "iopub.execute_input": "2021-03-11T05:24:29.368379Z",
     "iopub.status.busy": "2021-03-11T05:24:29.368183Z",
     "iopub.status.idle": "2021-03-11T05:24:29.459292Z",
     "shell.execute_reply": "2021-03-11T05:24:29.458837Z",
     "shell.execute_reply.started": "2021-03-11T05:24:29.368358Z"
    },
    "tags": []
   },
   "outputs": [],
   "source": [
    "import numpy as np"
   ]
  },
  {
   "cell_type": "code",
   "execution_count": 6,
   "metadata": {
    "execution": {
     "iopub.execute_input": "2021-03-11T05:28:09.461864Z",
     "iopub.status.busy": "2021-03-11T05:28:09.461662Z",
     "iopub.status.idle": "2021-03-11T05:28:09.464675Z",
     "shell.execute_reply": "2021-03-11T05:28:09.464293Z",
     "shell.execute_reply.started": "2021-03-11T05:28:09.461845Z"
    },
    "tags": []
   },
   "outputs": [],
   "source": [
    "def calc_area_cylinder(radius,height):\n",
    "    side = 2*np.pi*radius*height\n",
    "    top_bottom = 2*np.pi*radius**2\n",
    "    \n",
    "    area = side + top_bottom\n",
    "    \n",
    "    return area"
   ]
  },
  {
   "cell_type": "markdown",
   "metadata": {},
   "source": [
    "## Input data of radius & height"
   ]
  },
  {
   "cell_type": "code",
   "execution_count": 7,
   "metadata": {
    "execution": {
     "iopub.execute_input": "2021-03-11T05:28:09.811589Z",
     "iopub.status.busy": "2021-03-11T05:28:09.811413Z",
     "iopub.status.idle": "2021-03-11T05:28:09.813702Z",
     "shell.execute_reply": "2021-03-11T05:28:09.813295Z",
     "shell.execute_reply.started": "2021-03-11T05:28:09.811571Z"
    },
    "tags": []
   },
   "outputs": [],
   "source": [
    "radius = 1 \n",
    "height = 10 "
   ]
  },
  {
   "cell_type": "markdown",
   "metadata": {},
   "source": [
    "## The Area of Cylinder given radius & height"
   ]
  },
  {
   "cell_type": "markdown",
   "metadata": {
    "execution": {
     "iopub.execute_input": "2021-03-11T05:39:37.433898Z",
     "iopub.status.busy": "2021-03-11T05:39:37.433668Z",
     "iopub.status.idle": "2021-03-11T05:39:37.555065Z",
     "shell.execute_reply": "2021-03-11T05:39:37.554612Z",
     "shell.execute_reply.started": "2021-03-11T05:39:37.433877Z"
    }
   },
   "source": [
    "![Formula](./DATA/Cylinder_Formula.png)"
   ]
  },
  {
   "cell_type": "code",
   "execution_count": 14,
   "metadata": {
    "execution": {
     "iopub.execute_input": "2021-03-11T05:33:28.349386Z",
     "iopub.status.busy": "2021-03-11T05:33:28.349159Z",
     "iopub.status.idle": "2021-03-11T05:33:28.352187Z",
     "shell.execute_reply": "2021-03-11T05:33:28.351786Z",
     "shell.execute_reply.started": "2021-03-11T05:33:28.349366Z"
    },
    "tags": []
   },
   "outputs": [
    {
     "name": "stdout",
     "output_type": "stream",
     "text": [
      "Cylinder Area : 69.12, (where radius = 1.00, height = 10.00) \n"
     ]
    }
   ],
   "source": [
    "print(\"Cylinder Area : {:4.2f}, (where radius = {:4.2f}, height = {:4.2f}) \"\\\n",
    "                     .format(calc_area_cylinder(radius,height),radius,height))"
   ]
  }
 ],
 "metadata": {
  "kernelspec": {
   "display_name": "Python 3",
   "language": "python",
   "name": "python3"
  },
  "language_info": {
   "codemirror_mode": {
    "name": "ipython",
    "version": 3
   },
   "file_extension": ".py",
   "mimetype": "text/x-python",
   "name": "python",
   "nbconvert_exporter": "python",
   "pygments_lexer": "ipython3",
   "version": "3.8.3"
  },
  "varInspector": {
   "cols": {
    "lenName": 16,
    "lenType": 16,
    "lenVar": 40
   },
   "kernels_config": {
    "python": {
     "delete_cmd_postfix": "",
     "delete_cmd_prefix": "del ",
     "library": "var_list.py",
     "varRefreshCmd": "print(var_dic_list())"
    },
    "r": {
     "delete_cmd_postfix": ") ",
     "delete_cmd_prefix": "rm(",
     "library": "var_list.r",
     "varRefreshCmd": "cat(var_dic_list()) "
    }
   },
   "types_to_exclude": [
    "module",
    "function",
    "builtin_function_or_method",
    "instance",
    "_Feature"
   ],
   "window_display": false
  }
 },
 "nbformat": 4,
 "nbformat_minor": 4
}
