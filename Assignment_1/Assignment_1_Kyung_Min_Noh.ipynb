{
 "cells": [
  {
   "cell_type": "markdown",
   "metadata": {},
   "source": [
    "# 1. In-class Assignment 1 "
   ]
  },
  {
   "cell_type": "markdown",
   "metadata": {},
   "source": [
    "## 1-1. Find the maximum wind speed of Typhoon MAYSAK"
   ]
  },
  {
   "cell_type": "markdown",
   "metadata": {},
   "source": [
    "![MAYSAK](./DATA/Typhoon_MAYSAK.png)"
   ]
  },
  {
   "cell_type": "markdown",
   "metadata": {},
   "source": [
    "## 1.2 Determine the category of Typhoon MAYSAK in 2020"
   ]
  },
  {
   "cell_type": "markdown",
   "metadata": {},
   "source": [
    "![Category](./DATA/Typhoon_Category.png)"
   ]
  },
  {
   "cell_type": "code",
   "execution_count": 9,
   "metadata": {},
   "outputs": [],
   "source": [
    "def determine_TC_category(wind_speed,unit):\n",
    "    \n",
    "    ## Reference : https://en.wikipedia.org/wiki/Template:Philippine_Tropical_Cyclone_Intensity_Scale\n",
    "    \n",
    "    ## Unit Conversion\n",
    "    if   (unit == \"knots\"): wind_speed = wind_speed * 1.852\n",
    "    elif (unit == \"km/h\"):  wind_speed = wind_speed * 1.000\n",
    "    else: raise Exception(\"Check the units. Only 'km/h' and 'knots' are allowed\" )\n",
    "    \n",
    "    ## Determining the TC Category\n",
    "    if   (wind_speed >= 220): category = \"Super Typhoon\"\n",
    "    elif (wind_speed >= 118): category = \"Typhoon\"\n",
    "    elif (wind_speed >= 89):  category = \"Severe Tropical Storm\"\n",
    "    elif (wind_speed >= 62):  category = \"Tropical Storm\"\n",
    "    else:                     category = \"Tropical Depression\"\n",
    " \n",
    "    return category"
   ]
  },
  {
   "cell_type": "code",
   "execution_count": 10,
   "metadata": {},
   "outputs": [],
   "source": [
    "wind_speed = 230\n",
    "unit       = \"km/h\"\n",
    "\n",
    "MAYSAK_category = determine_TC_category(wind_speed,unit)"
   ]
  },
  {
   "cell_type": "code",
   "execution_count": 11,
   "metadata": {},
   "outputs": [
    {
     "name": "stdout",
     "output_type": "stream",
     "text": [
      "Typhoon Category of MAYSAK is :  Super Typhoon\n"
     ]
    }
   ],
   "source": [
    "print(\"Typhoon Category of MAYSAK is : \",MAYSAK_category)"
   ]
  }
 ],
 "metadata": {
  "kernelspec": {
   "display_name": "Python 3",
   "language": "python",
   "name": "python3"
  },
  "language_info": {
   "codemirror_mode": {
    "name": "ipython",
    "version": 3
   },
   "file_extension": ".py",
   "mimetype": "text/x-python",
   "name": "python",
   "nbconvert_exporter": "python",
   "pygments_lexer": "ipython3",
   "version": "3.8.3"
  }
 },
 "nbformat": 4,
 "nbformat_minor": 4
}
