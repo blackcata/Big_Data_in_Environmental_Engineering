{
 "cells": [
  {
   "cell_type": "code",
   "execution_count": null,
   "metadata": {},
   "outputs": [],
   "source": [
    "import tensorflow as tf\n",
    "import numpy as np \n",
    "import pandas as pd\n",
    "import matplotlib.pyplot as plt\n",
    "import seaborn as sns\n",
    "import sklearn.preprocessing as scl\n",
    "from sklearn import tree\n",
    "from sklearn.svm import SVR\n",
    "from sklearn.neighbors import KNeighborsRegressor\n",
    "from IPython.display import clear_output\n",
    "\n",
    "plt.rcParams['figure.dpi'] = 300\n",
    "%config InlineBackend.figure_format = 'retina'"
   ]
  },
  {
   "cell_type": "code",
   "execution_count": null,
   "metadata": {},
   "outputs": [],
   "source": [
    "def extract_stat_country(COVID_data,country_name,stat_name,N_stat,type_country):\n",
    "    N_country   = len(country_name)\n",
    "    stat_COVID_countries = np.empty([N_country,N_stat])\n",
    "\n",
    "    for ind_country in range(N_country):\n",
    "        tmp_COVID_country  = COVID_data.loc[COVID_data[type_country]\n",
    "                                            ==country_name[ind_country]]\n",
    "        \n",
    "        date_country       = tmp_COVID_country['date']\n",
    "        ind_date = pd.to_datetime(date_country,format='%Y-%m-%d')>=start_time\n",
    "\n",
    "        tmp_stat_COVID_country = tmp_COVID_country[stat_name]\n",
    "        stat_COVID_countries[ind_country,:] = tmp_stat_COVID_country[ind_date]\n",
    "        \n",
    "    return stat_COVID_countries"
   ]
  },
  {
   "cell_type": "markdown",
   "metadata": {},
   "source": [
    "## 1. Read the COVID19 data"
   ]
  },
  {
   "cell_type": "code",
   "execution_count": null,
   "metadata": {},
   "outputs": [],
   "source": [
    "dir_name  = \"./DATA/\"\n",
    "file_name = \"covid-data.csv\"\n",
    "path_name = dir_name+file_name\n",
    "\n",
    "COVID_data = pd.read_csv(path_name,encoding='euc-kr')"
   ]
  },
  {
   "cell_type": "code",
   "execution_count": null,
   "metadata": {},
   "outputs": [],
   "source": [
    "COVID_data"
   ]
  },
  {
   "cell_type": "markdown",
   "metadata": {},
   "source": [
    "## 2. Select Countries [Training & Validation]"
   ]
  },
  {
   "cell_type": "code",
   "execution_count": null,
   "metadata": {},
   "outputs": [],
   "source": [
    "# toal_country        = [\"United Kingdom\",\"Germany\",\"France\",\"Spain\",\"Italy\",\n",
    "#                        \"Netherlands\",\"Belgium\",\"Greece\",\"Romania\",\"Austria\"]\n",
    "# train_country       = [\"United Kingdom\",\"Germany\",\"Italy\",\"Netherlands\",\"Belgium\"]\n",
    "# validation_country  = [\"Romania\"]\n",
    "\n",
    "toal_country        = [\"United States\",\"India\",\"Russia\",\"Brazil\",\"France\",\n",
    "                       \"United Kingdom\",\"Italy\",\"Spain\",\"Germany\",\"Japan\"]\n",
    "train_country        = [\"United States\",\"India\",\"Russia\",\"Brazil\",\"France\"]\n",
    "validation_country  = [\"Japan\"]\n",
    "\n",
    "statistic_type      = [\"new_cases\",\"new_deaths\"]"
   ]
  },
  {
   "cell_type": "markdown",
   "metadata": {},
   "source": [
    "## 3. Extract Statistics to 1 Total Array"
   ]
  },
  {
   "cell_type": "code",
   "execution_count": null,
   "metadata": {},
   "outputs": [],
   "source": [
    "start_time = pd.to_datetime('2020-03-01',format='%Y-%m-%d')\n",
    "\n",
    "if  (statistic_type[0] == \"newConfirmed\"):\n",
    "    type_country       = \"Country\"\n",
    "    tmp_COVID_country  = COVID_data.loc[COVID_data[type_country]==\n",
    "                                        toal_country[0]]\n",
    "    date_country       = tmp_COVID_country['Date']\n",
    "    \n",
    "elif (statistic_type[0] == \"new_cases\"):\n",
    "    type_country       = \"location\"\n",
    "    tmp_COVID_country  = COVID_data.loc[COVID_data[type_country]==\n",
    "                                        toal_country[0]]\n",
    "    date_country       = tmp_COVID_country['date']\n",
    "    \n",
    "ind_date = pd.to_datetime(date_country,format='%Y-%m-%d')>=start_time\n",
    "COVID_country = tmp_COVID_country[ind_date][:]\n",
    "stat_COVID_country = COVID_country[statistic_type[0]]\n",
    "\n",
    "\n",
    "N_country   = len(train_country)  ; N_stat      = len(stat_COVID_country)\n",
    "\n",
    "total_stat_1_COVID_countries  = extract_stat_country(COVID_data,toal_country,\n",
    "                                                 statistic_type[0],N_stat,type_country)\n",
    "total_stat_2_COVID_countries  = extract_stat_country(COVID_data,toal_country,\n",
    "                                                 statistic_type[1],N_stat,type_country)\n",
    "\n",
    "train_stat_1_COVID_countries  = extract_stat_country(COVID_data,train_country,\n",
    "                                                 statistic_type[0],N_stat,type_country)\n",
    "train_stat_2_COVID_countries  = extract_stat_country(COVID_data,train_country,\n",
    "                                                 statistic_type[1],N_stat,type_country)\n",
    "\n",
    "validation_stat_1_COVID_countries  = extract_stat_country(COVID_data,validation_country,\n",
    "                                                 statistic_type[0],N_stat,type_country)\n",
    "validation_stat_2_COVID_countries  = extract_stat_country(COVID_data,validation_country,\n",
    "                                                 statistic_type[1],N_stat,type_country)"
   ]
  },
  {
   "cell_type": "markdown",
   "metadata": {},
   "source": [
    "## 4. Time Series of new Confirmed cases for training countries"
   ]
  },
  {
   "cell_type": "code",
   "execution_count": null,
   "metadata": {},
   "outputs": [],
   "source": [
    "date[N_ratio]"
   ]
  },
  {
   "cell_type": "code",
   "execution_count": null,
   "metadata": {},
   "outputs": [],
   "source": [
    "N_point = 10 \n",
    "\n",
    "N_date = len(date_country)\n",
    "date = date_country[ind_date].values\n",
    "date_name = date[1:N_date:int(N_date/N_point)]\n",
    "\n",
    "fig, axes = plt.subplots(2,1,figsize=(10,7),constrained_layout=True)\n",
    "\n",
    "for ind_country in range(N_country):\n",
    "    tmp_stat_1 = train_stat_1_COVID_countries[ind_country,:]\n",
    "    tmp_stat_2 = train_stat_2_COVID_countries[ind_country,:]\n",
    "\n",
    "    axes[0].plot(date,tmp_stat_1,\n",
    "                 '.',linewidth=1,color=color_name[ind_country],\n",
    "                 label=train_country[ind_country],alpha=0.3)\n",
    "    \n",
    "    axes[1].plot(date,tmp_stat_1/np.nanmax(tmp_stat_1),\n",
    "                 '.',linewidth=1,color=color_name[ind_country],\n",
    "                 label=train_country[ind_country],alpha=0.3)\n",
    "\n",
    "axes[0].set_title(statistic_type[0]+\" Log Scale\",fontsize=15)\n",
    "axes[1].set_title(statistic_type[0]+\" Linear Scale\",fontsize=15)\n",
    "axes[0].set_yscale(\"log\")\n",
    "\n",
    "for ind_axes in range(2):\n",
    "    axes[ind_axes].set_xticks(date_name)\n",
    "    axes[ind_axes].set_xticklabels(date_name,rotation=45)\n",
    "    axes[ind_axes].legend()\n",
    "\n",
    "axes[1].arrow( date[160+20], -0.3, 140, 0, head_width = 0.07, head_length = 5.5, \n",
    "           linewidth = 2., alpha = 0.8, color = 'red', length_includes_head = True)\n",
    "axes[1].arrow( date[160-20], -0.3, -140, 0,head_width = 0.07, head_length = 5.5, \n",
    "           linewidth = 2., alpha = 0.8, color = 'red', length_includes_head = True)\n",
    "axes[1].text( date[160], -0.3, 'Training', color = 'red', size = 12.5, alpha = 0.8, \n",
    "          horizontalalignment = 'center', verticalalignment = 'center')    \n",
    "    \n",
    "axes[1].arrow( date[370+25], -0.3, 20, 0, head_width = 0.07, head_length = 5.5, \n",
    "           linewidth = 2., alpha = 0.8, color = 'blue', length_includes_head = True)\n",
    "axes[1].arrow( date[370-25], -0.3, -20, 0,head_width = 0.07, head_length = 5.5, \n",
    "           linewidth = 2., alpha = 0.8, color = 'blue', length_includes_head = True)\n",
    "axes[1].text( date[370], -0.3, 'Validation', color = 'blue', size = 12.5, alpha = 0.8, \n",
    "          horizontalalignment = 'center', verticalalignment = 'center')"
   ]
  },
  {
   "cell_type": "code",
   "execution_count": null,
   "metadata": {},
   "outputs": [],
   "source": [
    "ratio_data = 0.8\n",
    "N_ratio    = int(N_stat*ratio_data)\n",
    "\n",
    "## Data for train & validation\n",
    "train_input_set_COVID  = train_stat_1_COVID_countries.T[0:N_ratio,:]\n",
    "train_output_set_COVID = validation_stat_1_COVID_countries.T[0:N_ratio]\n",
    "\n",
    "validation_input_set_COVID  = train_stat_1_COVID_countries.T[N_ratio:,:]\n",
    "validation_output_set_COVID = validation_stat_1_COVID_countries.T[N_ratio:]\n",
    "\n",
    "## Data Scaling for train & validation\n",
    "type_scaler      = scl.MinMaxScaler()\n",
    "type_scaler.fit(train_input_set_COVID)\n",
    "\n",
    "train_input      = type_scaler.transform(train_input_set_COVID)\n",
    "validation_input = type_scaler.transform(validation_input_set_COVID)\n",
    "\n",
    "train_output =  train_output_set_COVID\n",
    "validation_output = validation_output_set_COVID"
   ]
  },
  {
   "cell_type": "markdown",
   "metadata": {},
   "source": [
    "## 5. Train the Decision Tree Model using Train & Validation Data"
   ]
  },
  {
   "cell_type": "code",
   "execution_count": null,
   "metadata": {},
   "outputs": [],
   "source": [
    "fig, axes = plt.subplots(1,1,figsize=(10,5))\n",
    "\n",
    "iteration = 0 \n",
    "for max_depth in [2,5,10]:\n",
    "    iteration = iteration + 1\n",
    "    \n",
    "    clf               = tree.DecisionTreeRegressor(max_depth=max_depth)\n",
    "    clf               = clf.fit(train_input, train_output)\n",
    "    model_prediction  = clf.predict(train_input)\n",
    "\n",
    "    N_point = 10 \n",
    "    N_date = len(date_country)\n",
    "    date = date_country[ind_date].values\n",
    "#     date_name = date[N_ratio:N_date:int((N_date-N_ratio)/N_point)]\n",
    "    date_name = date[0:N_ratio:int((N_ratio)/N_point)]\n",
    "\n",
    "\n",
    "    if (iteration == 1): \n",
    "        axes.plot(date_country[ind_date][0:N_ratio],train_output,\n",
    "                  'k.-',label='Data',markersize=12.5,alpha=0.75)\n",
    "        \n",
    "    axes.plot(date_country[ind_date][0:N_ratio],model_prediction,\n",
    "              '.-',markersize=7.5,alpha=0.6,\n",
    "             label='Decision Tree (max_depth = {})'.format(max_depth))\n",
    "\n",
    "    corr_model  = np.corrcoef(clf.predict(train_input),\n",
    "                              train_output.T)[0][1]\n",
    "\n",
    "    print(\"Corr Skill (max_depth={}): {:4.2f}\".format(max_depth,corr_model))\n",
    "    \n",
    "axes.set_ylabel(\"newConfirmed\")\n",
    "axes.set_xticks(date_name)\n",
    "axes.set_xticklabels(date_name,rotation=45)\n",
    "axes.set_title(\"Decision Tree Regression (Train)\")\n",
    "axes.legend()"
   ]
  },
  {
   "cell_type": "code",
   "execution_count": null,
   "metadata": {},
   "outputs": [],
   "source": [
    "max_depth = 5\n",
    "fig, axes = plt.subplots(1,1,figsize=(10,5))\n",
    "\n",
    "iteration = 0 \n",
    "for max_depth in [2,5,10]:\n",
    "    iteration = iteration + 1\n",
    "    \n",
    "    clf               = tree.DecisionTreeRegressor(max_depth=max_depth)\n",
    "    clf               = clf.fit(train_input, train_output)\n",
    "    model_prediction  = clf.predict(validation_input)\n",
    "\n",
    "    N_point = 10 \n",
    "    N_date = len(date_country)\n",
    "    date = date_country[ind_date].values\n",
    "    date_name = date[N_ratio:N_date:int((N_date-N_ratio)/N_point)]\n",
    "\n",
    "    if (iteration == 1): \n",
    "        axes.plot(date_country[ind_date][N_ratio:],validation_output,\n",
    "                  'k.-',label='Data',markersize=12.5,alpha=0.75)\n",
    "        \n",
    "    axes.plot(date_country[ind_date][N_ratio:],model_prediction,\n",
    "              '.-',markersize=7.5,alpha=0.6,\n",
    "             label='Decision Tree (max_depth = {})'.format(max_depth))\n",
    "\n",
    "    corr_model  = np.corrcoef(clf.predict(validation_input),\n",
    "                              validation_output.T)[0][1]\n",
    "\n",
    "    print(\"Corr Skill (max_depth={}): {:4.2f}\".format(max_depth,corr_model))\n",
    "    \n",
    "axes.set_ylabel(\"newConfirmed\")\n",
    "axes.set_xticks(date_name)\n",
    "axes.set_xticklabels(date_name,rotation=45)\n",
    "axes.set_title(\"Decision Tree Regression (Validation)\")\n",
    "axes.legend()\n",
    "axes.grid(alpha=0.1)"
   ]
  },
  {
   "cell_type": "markdown",
   "metadata": {},
   "source": [
    "## 6. Train the SVM Model using Train & Validation Data"
   ]
  },
  {
   "cell_type": "code",
   "execution_count": null,
   "metadata": {},
   "outputs": [],
   "source": [
    "kernel_type = ['rbf','linear','poly']\n",
    "fig, axes = plt.subplots(1,1,figsize=(10,5))\n",
    "\n",
    "N_point = 10 \n",
    "N_date = len(date_country)\n",
    "date = date_country[ind_date].values\n",
    "date_name = date[N_ratio:N_date:int((N_date-N_ratio)/N_point)]\n",
    "\n",
    "for it in range(len(kernel_type)):\n",
    "    L_norm = np.linalg.norm(train_output,1)\n",
    "    svr_rbf = SVR(kernel=kernel_type[it], C=L_norm, gamma='auto', epsilon=1)\n",
    "    svr_rbf.fit(train_input,train_output)\n",
    "    model_prediction = svr_rbf.predict(validation_input)\n",
    "\n",
    "    if (it == 0): \n",
    "        axes.plot(date_country[ind_date][N_ratio:],validation_output,\n",
    "                 'k.-',label='Data',markersize=12.5,alpha=0.75)\n",
    "        \n",
    "    axes.plot(date_country[ind_date][N_ratio:],model_prediction,\n",
    "             '.-',markersize=7.5,alpha=0.6,\n",
    "             label='SVM (kernel={})'.format(kernel_type[it]))\n",
    "\n",
    "    corr_model  = np.corrcoef(svr_rbf.predict(validation_input),\n",
    "                              validation_output.T)[0][1]\n",
    "\n",
    "    print(\"Corr Skill (kernel={}): {:4.2f}\".format(kernel_type[it],\n",
    "                                                   corr_model))\n",
    "\n",
    "axes.set_ylabel(\"newConfirmed\")\n",
    "axes.set_xticks(date_name)\n",
    "axes.set_xticklabels(date_name,rotation=45)\n",
    "axes.set_title(\"Support Vector Machine Regression (Validation)\")\n",
    "axes.legend()\n",
    "axes.grid(alpha=0.1)"
   ]
  },
  {
   "cell_type": "markdown",
   "metadata": {},
   "source": [
    "## 7. Train the KNN Model using Train & Validation Data"
   ]
  },
  {
   "cell_type": "code",
   "execution_count": null,
   "metadata": {},
   "outputs": [],
   "source": [
    "n_neighbors = [2,5,10]\n",
    "fig, axes = plt.subplots(1,1,figsize=(10,5))\n",
    "\n",
    "N_point = 10 \n",
    "N_date = len(date_country)\n",
    "date = date_country[ind_date].values\n",
    "date_name = date[N_ratio:N_date:int((N_date-N_ratio)/N_point)]\n",
    "\n",
    "\n",
    "for it in range(len(n_neighbors)):\n",
    "    neigh = KNeighborsRegressor(n_neighbors=n_neighbors[it])\n",
    "    neigh.fit(train_input,train_output)\n",
    "    model_prediction = neigh.predict(validation_input)\n",
    "    \n",
    "    if (it == 0): \n",
    "        axes.plot(date_country[ind_date][N_ratio:],validation_output,\n",
    "                 'k.-',label='Data',markersize=12.5,alpha=0.75)\n",
    "\n",
    "    axes.plot(date_country[ind_date][N_ratio:],model_prediction,\n",
    "             '.-',markersize=7.5,alpha=0.6,\n",
    "             label='KNN (n-neighbor={})'.format(n_neighbors[it]))\n",
    "\n",
    "    corr_model  = np.corrcoef(svr_rbf.predict(validation_input),\n",
    "                              validation_output.T)[0][1]\n",
    "    \n",
    "    print(\"Corr Skill (n_neighbors={}): {:4.2f}\".format(n_neighbors[it],\n",
    "                                                   corr_model))\n",
    "axes.set_ylabel(\"newConfirmed\")\n",
    "axes.set_xticks(date_name)\n",
    "axes.set_xticklabels(date_name,rotation=45)\n",
    "axes.set_title(\"KNN Regression (Validation)\")\n",
    "axes.legend()\n",
    "axes.grid(alpha=0.1)"
   ]
  }
 ],
 "metadata": {
  "kernelspec": {
   "display_name": "Python 3",
   "language": "python",
   "name": "python3"
  },
  "language_info": {
   "codemirror_mode": {
    "name": "ipython",
    "version": 3
   },
   "file_extension": ".py",
   "mimetype": "text/x-python",
   "name": "python",
   "nbconvert_exporter": "python",
   "pygments_lexer": "ipython3",
   "version": "3.8.5"
  }
 },
 "nbformat": 4,
 "nbformat_minor": 4
}
